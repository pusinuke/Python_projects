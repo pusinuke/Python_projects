{
 "cells": [
  {
   "cell_type": "markdown",
   "metadata": {},
   "source": [
    "# 1 paskaita. Užduotys"
   ]
  },
  {
   "cell_type": "markdown",
   "metadata": {},
   "source": [
    "## 1 užduotis"
   ]
  },
  {
   "cell_type": "markdown",
   "metadata": {},
   "source": [
    "Yra klaidų ir čia :)  \n",
    "Parašykite komentarą virš kiekvienos operacijos, t.y. koks yra pateiktų operacijų tikslas ir gr**Ą**žin**A**mas rezulatas. Jeigu randate klaidų - parašykite komentare teising**Ą** atsakymą. print(5 * 8) print(7 // 3) print('a' + 'b') print('mano vardas yra {}'.format('Tomas\"))"
   ]
  },
  {
   "cell_type": "code",
   "execution_count": 9,
   "metadata": {},
   "outputs": [
    {
     "name": "stdout",
     "output_type": "stream",
     "text": [
      "40\n",
      "2\n",
      "ab\n",
      "mano vardas yra Tomas\n"
     ]
    }
   ],
   "source": [
    "#Sudauginti 5 ir 8, 40\n",
    "print(5*8)\n",
    "\n",
    "# dalybos is 3 sveika dalis, 2\n",
    "print(7//3)\n",
    "\n",
    "#sujungti a ir b raides, ab\n",
    "print('a'+'b')\n",
    "\n",
    "#print('mano vardas yra {}'.format('Tomas\")), mano vardas yra Tomas\n",
    "# klaida: nevienodos kabutes ant Tomas\n",
    "print('mano vardas yra {}'.format('Tomas'))"
   ]
  },
  {
   "cell_type": "markdown",
   "metadata": {},
   "source": [
    "## 2 užduotis"
   ]
  },
  {
   "cell_type": "markdown",
   "metadata": {},
   "source": [
    "Suskaičiuokite Lietuvos gyventojų tankį, t.y. bendrą gyventojų skaičių valstybėje padalinkite iš jos ploto. Duomenis galite rasti čia: https://lt.wikipedia.org/wiki/Lietuva."
   ]
  },
  {
   "cell_type": "code",
   "execution_count": 12,
   "metadata": {},
   "outputs": [
    {
     "name": "stdout",
     "output_type": "stream",
     "text": [
      "42.755022970903525\n",
      "42.755022970903525\n",
      "Lietuvos gyventojų tankis yra 42.755022970903525 gyventojai kvadratiniame kilometre\n"
     ]
    }
   ],
   "source": [
    "gyv = 2791903\n",
    "plotas = 65300\n",
    "\n",
    "tankis = gyv/plotas\n",
    "print(tankis)\n",
    "\n",
    "#arba išvengiant papildomo kintamojo\n",
    "print(gyv/plotas)\n",
    "\n",
    "#truputį gražiau\n",
    "print(f'Lietuvos gyventojų tankis yra {tankis} gyventojai kvadratiniame kilometre')"
   ]
  },
  {
   "cell_type": "markdown",
   "metadata": {},
   "source": [
    "## 3 užduotis"
   ]
  },
  {
   "cell_type": "markdown",
   "metadata": {},
   "source": [
    "Pataisykite kodą taip, kad rezultatas rodytų Jūs**ų** gimimo miestą (nieko trinti nereikia):\n",
    "\n",
    "print('As gimiau {}'.format(miestas))\n",
    "\n",
    "At**sp**au**s**dinkite šį tekstą dar keliais būdais, pvz naudojant sudėt**į** (+). Kuris būdas yra pats tinkamiausias ir praktiškai visuomet turėtų būti naudojamas?"
   ]
  },
  {
   "cell_type": "code",
   "execution_count": 16,
   "metadata": {},
   "outputs": [
    {
     "name": "stdout",
     "output_type": "stream",
     "text": [
      "As gimiau Kaune.\n",
      "As gimiau Kaune.\n",
      "As gimiau Kaune.\n"
     ]
    }
   ],
   "source": [
    "miestas = 'Kaune'\n",
    "\n",
    "print('As gimiau {}.'.format(miestas))\n",
    "print('As gimiau ' + miestas + '.')\n",
    "print(f'As gimiau {miestas}.')"
   ]
  },
  {
   "cell_type": "markdown",
   "metadata": {},
   "source": [
    "## 4 užduotis"
   ]
  },
  {
   "cell_type": "markdown",
   "metadata": {},
   "source": [
    "Tikėtinas rezultatas - Jūsų vardas ir pavardė.\n",
    "\n",
    "print('Mano vardas yra {}, o pavarde {}'...."
   ]
  },
  {
   "cell_type": "code",
   "execution_count": 23,
   "metadata": {},
   "outputs": [
    {
     "name": "stdout",
     "output_type": "stream",
     "text": [
      "Mano vardas yra Aiste, o pavarde Simokaitiene.\n",
      "Mano vardas yra Aiste, o pavarde Simokaitiene.\n"
     ]
    }
   ],
   "source": [
    "vardas = 'Aiste'\n",
    "pavarde = 'simokaitiene'\n",
    "\n",
    "print('Mano vardas yra {}, o pavarde {}.'.format(vardas.title(), pavarde.title()))\n",
    "print('Mano vardas yra {}, o pavarde {}.'.format('Aiste', 'Simokaitiene'))"
   ]
  },
  {
   "cell_type": "markdown",
   "metadata": {},
   "source": [
    "## 5 užduotis"
   ]
  },
  {
   "cell_type": "markdown",
   "metadata": {},
   "source": [
    "Kaip pakeistumėte x, kad gautumėte: a) \"tomas\" b) \"tomaS\"\n",
    "\n",
    "x = 'Tomas'"
   ]
  },
  {
   "cell_type": "code",
   "execution_count": 34,
   "metadata": {},
   "outputs": [
    {
     "name": "stdout",
     "output_type": "stream",
     "text": [
      "Tomas\n",
      "tomas\n",
      "tomaS\n"
     ]
    }
   ],
   "source": [
    "x = 'Tomas' \n",
    "print(x) # original x\n",
    "\n",
    "print(x.lower()) # version a\n",
    "\n",
    "print(x[0].lower() + x[1:-1] + x[-1].upper()) # version b"
   ]
  },
  {
   "cell_type": "markdown",
   "metadata": {},
   "source": [
    "## 6 užduotis"
   ]
  },
  {
   "cell_type": "markdown",
   "metadata": {},
   "source": [
    "Pakeiskite žodį 'puiki' į 'nuostabi', ir ištrinkite '!'\n",
    "\n",
    "x = 'Python yra tiesiog puiki kalba!'\n",
    "\n",
    "x"
   ]
  },
  {
   "cell_type": "code",
   "execution_count": 67,
   "metadata": {},
   "outputs": [
    {
     "name": "stdout",
     "output_type": "stream",
     "text": [
      "Python yra tiesiog nuostabi kalba\n"
     ]
    }
   ],
   "source": [
    "x = 'Python yra tiesiog puiki kalba!'\n",
    "x = x.replace('puiki', 'nuostabi')\n",
    "\n",
    "print(x[0:-1])"
   ]
  },
  {
   "cell_type": "markdown",
   "metadata": {},
   "source": [
    "## 7 užduotis"
   ]
  },
  {
   "cell_type": "markdown",
   "metadata": {},
   "source": [
    "Kaip gautumėte (print) tokį rezultatą:\n",
    "\n",
    "a a a a a  \n",
    "b b b b c c c d d e"
   ]
  },
  {
   "cell_type": "code",
   "execution_count": 38,
   "metadata": {
    "scrolled": false
   },
   "outputs": [
    {
     "name": "stdout",
     "output_type": "stream",
     "text": [
      "a a a a a \n",
      "b b b b c c c d d e\n"
     ]
    }
   ],
   "source": [
    "print(('a '*5) + '\\n' + ('b ')*4 + 'c '*3 + 'd '*2 + 'e')"
   ]
  },
  {
   "cell_type": "markdown",
   "metadata": {},
   "source": [
    "## 8 užduotis"
   ]
  },
  {
   "cell_type": "markdown",
   "metadata": {},
   "source": [
    "Padarykite, kad didžiosios raides taptų mažosiomis, o mažosios - didžiosiomis.\n",
    "\n",
    "x = \"SIandien yra Puiki Diena\""
   ]
  },
  {
   "cell_type": "code",
   "execution_count": 39,
   "metadata": {},
   "outputs": [
    {
     "name": "stdout",
     "output_type": "stream",
     "text": [
      "siANDIEN YRA pUIKI dIENA\n"
     ]
    }
   ],
   "source": [
    "x = 'SIandien yra Puiki Diena'\n",
    "print(x.swapcase())"
   ]
  },
  {
   "cell_type": "markdown",
   "metadata": {},
   "source": [
    "## 9 užduotis"
   ]
  },
  {
   "cell_type": "markdown",
   "metadata": {},
   "source": [
    "Suskaičiuokite kiek kartų pasikartojo raidės 'o', 'd' ir 'i' (kiekvieną atskirai)\n",
    "\n",
    "x = 'Siandien yra tiesiog puiki diena mokytis Python'"
   ]
  },
  {
   "cell_type": "code",
   "execution_count": 50,
   "metadata": {},
   "outputs": [
    {
     "name": "stdout",
     "output_type": "stream",
     "text": [
      "3\n",
      "2\n",
      "8\n",
      "\"o\" raide tekste pasikartojo 3 kartus, \"d\" raide pasikartojo 2 kartus, o \"i\" raide 8 kartus.\n"
     ]
    }
   ],
   "source": [
    "x = 'Siandien yra tiesiog puiki diena mokytis Python'\n",
    "\n",
    "print(x.count('o'))\n",
    "print(x.count('d'))\n",
    "print(x.count('i'))\n",
    "\n",
    "print('\"o\" raide tekste pasikartojo {} kartus, \"d\" raide pasikartojo {} kartus, o \"i\" raide {} kartus.'\n",
    "      .format(x.count('o'), x.count('d'), x.count('i')))"
   ]
  },
  {
   "cell_type": "markdown",
   "metadata": {},
   "source": [
    "## 10 užduotis"
   ]
  },
  {
   "cell_type": "markdown",
   "metadata": {},
   "source": [
    "Suskaičiuokite (pasibandykite tiek konsolėje, tiek su kintamaisiais): 5 + 10 = ?"
   ]
  },
  {
   "cell_type": "code",
   "execution_count": 52,
   "metadata": {},
   "outputs": [
    {
     "name": "stdout",
     "output_type": "stream",
     "text": [
      "15\n",
      "15\n"
     ]
    }
   ],
   "source": [
    "x = 5 + 10\n",
    "print(x)\n",
    "\n",
    "print(5 + 10)"
   ]
  },
  {
   "cell_type": "markdown",
   "metadata": {},
   "source": [
    "## 11 užduotis"
   ]
  },
  {
   "cell_type": "markdown",
   "metadata": {},
   "source": [
    "Patikrinkite, ar (pasibandykite tiek konsolėje, tiek su kintamaisiais): a) 5 > 6 b) 'a' > 'b' c) 5 > 'a'"
   ]
  },
  {
   "cell_type": "code",
   "execution_count": 59,
   "metadata": {},
   "outputs": [
    {
     "name": "stdout",
     "output_type": "stream",
     "text": [
      "False\n",
      "False\n",
      "False\n"
     ]
    }
   ],
   "source": [
    "#a\n",
    "print(5 > 6)\n",
    "\n",
    "#b\n",
    "print('a' > 'b')\n",
    "\n",
    "#c\n",
    "print(str(5) > 'a')"
   ]
  },
  {
   "cell_type": "markdown",
   "metadata": {},
   "source": [
    "## 12 užduotis"
   ]
  },
  {
   "cell_type": "markdown",
   "metadata": {},
   "source": [
    "Paaiškinkite (naudodami komentarus kode) ir iliustruokite pavyzdžiais (**su**sikūrę kintamuosius ir atspau**S**dinę jų rezultatus), kam skirtos šios funkcijos, dirbant su simbolių eilutėmis: a) replace() b) split() c) istitle()"
   ]
  },
  {
   "cell_type": "code",
   "execution_count": 66,
   "metadata": {},
   "outputs": [
    {
     "name": "stdout",
     "output_type": "stream",
     "text": [
      "Petras megsta obuolius.\n",
      "['Petras', 'megsta', 'obuolius.']\n",
      "False\n",
      "True\n",
      "False\n",
      "False\n"
     ]
    }
   ],
   "source": [
    "# a) replace(). Naudojamas tam tikros nurodytos simbolių eilutės dalies pakeitimui kita nurodyta reikšme.\n",
    "\n",
    "x = 'Petras megsta bananus.'\n",
    "y = x.replace('bananus', 'obuolius')\n",
    "\n",
    "print(y)\n",
    "\n",
    "\n",
    "# b) split(). Naudojamas simbolių eilutės išskaidymui pagal nurodytus 'skirtukus', grąžina listą.\n",
    "\n",
    "z = y.split()\n",
    "print(z)\n",
    "\n",
    "# c) istitle(). Patikrina ar simbolių eilutė atitinka Title reikalavimus \n",
    "# (ar kiekvienas žodis prasideda didžiąja raide), grąžina atitinkamai True arba False.\n",
    "\n",
    "print(y.istitle())\n",
    "\n",
    "for i in z:\n",
    "    print(i.istitle())\n"
   ]
  }
 ],
 "metadata": {
  "kernelspec": {
   "display_name": "Python 3",
   "language": "python",
   "name": "python3"
  },
  "language_info": {
   "codemirror_mode": {
    "name": "ipython",
    "version": 3
   },
   "file_extension": ".py",
   "mimetype": "text/x-python",
   "name": "python",
   "nbconvert_exporter": "python",
   "pygments_lexer": "ipython3",
   "version": "3.8.1"
  }
 },
 "nbformat": 4,
 "nbformat_minor": 4
}
